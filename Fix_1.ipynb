{
 "cells": [
  {
   "cell_type": "code",
   "execution_count": 1,
   "id": "410aa378-65f6-4f49-9927-249e8a8825c3",
   "metadata": {},
   "outputs": [],
   "source": [
    "import time\n",
    "import pandas as pd\n",
    "import numpy as np\n",
    "import matplotlib.pyplot as plt\n",
    "from sklearn.preprocessing import RobustScaler\n",
    "from sklearn.model_selection import train_test_split, GridSearchCV, cross_validate\n",
    "from sklearn.linear_model import LogisticRegression\n",
    "from sklearn.neighbors import KNeighborsClassifier\n",
    "from sklearn.svm import SVC\n",
    "from sklearn.tree import DecisionTreeClassifier"
   ]
  },
  {
   "cell_type": "code",
   "execution_count": 2,
   "id": "aaa0b840-2f1b-4567-b9a1-80e9cd2b450e",
   "metadata": {},
   "outputs": [],
   "source": [
    "# Load data\n",
    "df = pd.read_csv('data/creditcard.csv')"
   ]
  },
  {
   "cell_type": "code",
   "execution_count": 3,
   "id": "31855945-c63a-4573-b424-e3f58c92b9e9",
   "metadata": {},
   "outputs": [],
   "source": [
    "# Scaling\n",
    "scaler = RobustScaler()\n",
    "\n",
    "df['scaled_amount'] = scaler.fit_transform(df['Amount'].values.reshape(-1, 1))\n",
    "df['scaled_time'] = scaler.fit_transform(df['Time'].values.reshape(-1, 1))\n",
    "\n",
    "df.drop(['Amount', 'Time'], axis=1, inplace=True)"
   ]
  },
  {
   "cell_type": "code",
   "execution_count": 4,
   "id": "97adbcac-4cf3-4041-b3ba-309db03246d5",
   "metadata": {},
   "outputs": [],
   "source": [
    "# Split train and test\n",
    "train, test = train_test_split(df, test_size=0.2, shuffle=True, random_state=42, stratify=df['Class'])"
   ]
  },
  {
   "cell_type": "code",
   "execution_count": 5,
   "id": "3cfa6ab7-61a9-468b-a35e-db2e9553adcc",
   "metadata": {},
   "outputs": [
    {
     "data": {
      "image/png": "[encoded data removed]",
      "text/plain": [
       "<Figure size 432x288 with 1 Axes>"
      ]
     },
     "metadata": {
      "needs_background": "light"
     },
     "output_type": "display_data"
    }
   ],
   "source": [
    "# Check test dataset class distribution\n",
    "test_val_cnt = test['Class'].value_counts().reset_index()\n",
    "plt.bar(test_val_cnt['index'], test_val_cnt['Class'], color=['red', 'blue'], tick_label=['normal', 'fraud'])\n",
    "plt.title('Class Distribution of test dataset')\n",
    "plt.show()"
   ]
  },
  {
   "cell_type": "code",
   "execution_count": 6,
   "id": "0a1e29b2-12b1-4a3d-8341-abd19a0a28b2",
   "metadata": {},
   "outputs": [
    {
     "name": "stdout",
     "output_type": "stream",
     "text": [
      "Length of fraud data: 394\n",
      "Length of normal data: 1576\n"
     ]
    }
   ],
   "source": [
    "# Under Sampling train dataset\n",
    "fraud = train[train['Class']==1].reset_index(drop=True)\n",
    "normal = train[train['Class']==0]\n",
    "\n",
    "num_of_normal = len(fraud) * 4    # 2:8 비율\n",
    "\n",
    "normal = normal.sample(n=num_of_normal, random_state=42, ignore_index=True)\n",
    "\n",
    "print(f'Length of fraud data: {len(fraud)}')\n",
    "print(f'Length of normal data: {len(normal)}')\n",
    "\n",
    "train = pd.concat([fraud, normal], ignore_index=True)"
   ]
  },
  {
   "cell_type": "code",
   "execution_count": 7,
   "id": "d669682f-355f-4170-94d7-afd0b9bddb61",
   "metadata": {},
   "outputs": [],
   "source": [
    "# # Delete outliers\n",
    "# def del_outliers(df, col):\n",
    "#     fraud = df[df['Class']==1][col].values\n",
    "#     q25, q75 = np.percentile(fraud, 25), np.percentile(fraud, 75)\n",
    "#     iqr = q75 - q25\n",
    "#     cut_off = iqr * 1.5\n",
    "#     lower, upper = q25 - cut_off, q75 + cut_off\n",
    "#     df.drop(df[(df[col] > upper) | (df[col] < lower)].index, inplace=True)\n",
    "#     print(f'Number of data after {col} ouliers removal: {len(df)}')\n",
    "    \n",
    "# columns = ['V10', 'V12', 'V14', 'V17']\n",
    "\n",
    "# for col in columns:\n",
    "#     del_outliers(train, col)"
   ]
  },
  {
   "cell_type": "code",
   "execution_count": 8,
   "id": "ad267c57-a1da-408b-806b-648ee48ddf58",
   "metadata": {},
   "outputs": [
    {
     "name": "stdout",
     "output_type": "stream",
     "text": [
      "< Logistic Regression Results >\n",
      "Total fit time: 0.1902923107147217\n",
      "The best params: {'C': 0.01, 'penalty': 'l2'}\n",
      "Test accuracy: 97.69%\n",
      "\n",
      "\n",
      "< K-Neighbors Results >\n",
      "Total fit time: 0.02692546844482422\n",
      "The best params: {'algorithm': 'auto', 'n_neighbors': 4}\n",
      "Test accuracy: 95.92%\n",
      "\n",
      "\n",
      "< SVC Results >\n",
      "Total fit time: 0.2857597827911377\n",
      "The best params: {'C': 1, 'kernel': 'rbf'}\n",
      "Test accuracy: 97.6%\n",
      "\n",
      "\n",
      "< Decision Tree Results >\n",
      "Total fit time: 2.0971799373626707\n",
      "The best params: {'criterion': 'entropy', 'max_depth': 4, 'min_samples_leaf': 8}\n",
      "Test accuracy: 95.05%\n",
      "\n",
      "\n"
     ]
    }
   ],
   "source": [
    "# Train Classifier\n",
    "X_train = train.drop('Class', axis=1)\n",
    "y_train = train['Class']\n",
    "X_test = test.drop('Class', axis=1)\n",
    "y_test = test['Class']\n",
    "\n",
    "model = LogisticRegression(max_iter=10000)\n",
    "params = {'penalty':['l2'], 'C':[0.001, 0.01, 0.1, 1, 10, 100, 1000]}\n",
    "grid = GridSearchCV(model, params, scoring=['accuracy', 'roc_auc'], refit='roc_auc', return_train_score=True, cv=5)\n",
    "grid.fit(X_train, y_train)\n",
    "\n",
    "print('< Logistic Regression Results >')\n",
    "print(f'Total fit time: {grid.cv_results_[\"mean_fit_time\"].sum()}')\n",
    "print(f'The best params: {grid.best_params_}')\n",
    "print(f'Test accuracy: {round(grid.score(X_test, y_test) * 100, 2)}%')\n",
    "print('\\n')\n",
    "\n",
    "model = KNeighborsClassifier()\n",
    "params = {\"n_neighbors\": list(range(2,5,1)), 'algorithm': ['auto', 'ball_tree', 'kd_tree', 'brute']}\n",
    "grid = GridSearchCV(model, params, scoring=['accuracy', 'roc_auc'], refit='roc_auc', return_train_score=True, cv=5)\n",
    "grid.fit(X_train, y_train)\n",
    "\n",
    "print('< K-Neighbors Results >')\n",
    "print(f'Total fit time: {grid.cv_results_[\"mean_fit_time\"].sum()}')\n",
    "print(f'The best params: {grid.best_params_}')\n",
    "print(f'Test accuracy: {round(grid.score(X_test, y_test) * 100, 2)}%')\n",
    "print('\\n')\n",
    "\n",
    "model = SVC()\n",
    "params = {'C': [0.5, 0.7, 0.9, 1], 'kernel': ['rbf', 'poly', 'sigmoid', 'linear']}\n",
    "grid = GridSearchCV(model, params, scoring=['accuracy', 'roc_auc'], refit='roc_auc', return_train_score=True, cv=5)\n",
    "grid.fit(X_train, y_train)\n",
    "\n",
    "print('< SVC Results >')\n",
    "print(f'Total fit time: {grid.cv_results_[\"mean_fit_time\"].sum()}')\n",
    "print(f'The best params: {grid.best_params_}')\n",
    "print(f'Test accuracy: {round(grid.score(X_test, y_test) * 100, 2)}%')\n",
    "print('\\n')\n",
    "\n",
    "model = DecisionTreeClassifier()\n",
    "params = {\n",
    "    \"criterion\": [\"gini\", \"entropy\"], \n",
    "    \"max_depth\": list(range(2,10,1)), \n",
    "    \"min_samples_leaf\": list(range(2,10,1))\n",
    "}\n",
    "grid = GridSearchCV(model, params, scoring=['accuracy', 'roc_auc'], refit='roc_auc', return_train_score=True, cv=5)\n",
    "grid.fit(X_train, y_train)\n",
    "\n",
    "print('< Decision Tree Results >')\n",
    "print(f'Total fit time: {grid.cv_results_[\"mean_fit_time\"].sum()}')\n",
    "print(f'The best params: {grid.best_params_}')\n",
    "print(f'Test accuracy: {round(grid.score(X_test, y_test) * 100, 2)}%')\n",
    "print('\\n')"
   ]
  }
 ],
 "metadata": {
  "kernelspec": {
   "display_name": "Python 3 (ipykernel)",
   "language": "python",
   "name": "python3"
  },
  "language_info": {
   "codemirror_mode": {
    "name": "ipython",
    "version": 3
   },
   "file_extension": ".py",
   "mimetype": "text/x-python",
   "name": "python",
   "nbconvert_exporter": "python",
   "pygments_lexer": "ipython3",
   "version": "3.8.12"
  }
 },
 "nbformat": 4,
 "nbformat_minor": 5
}
